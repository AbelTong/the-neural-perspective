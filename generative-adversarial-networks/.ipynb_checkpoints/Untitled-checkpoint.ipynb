{
 "cells": [
  {
   "cell_type": "code",
   "execution_count": 1,
   "metadata": {
    "collapsed": true
   },
   "outputs": [],
   "source": [
    "import tensorflow as tf\n",
    "import numpy as np\n",
    "import matplotlib.pyplot as plt\n",
    "import seaborn as sns # for pretty plots\n",
    "from scipy.stats import norm\n",
    "%matplotlib inline"
   ]
  },
  {
   "cell_type": "code",
   "execution_count": null,
   "metadata": {
    "collapsed": true
   },
   "outputs": [],
   "source": []
  },
  {
   "cell_type": "code",
   "execution_count": null,
   "metadata": {
    "collapsed": true
   },
   "outputs": [],
   "source": []
  },
  {
   "cell_type": "code",
   "execution_count": 2,
   "metadata": {
    "collapsed": false
   },
   "outputs": [],
   "source": [
    "import tensorflow as tf\n",
    "import numpy as np\n",
    "import matplotlib.pyplot as plt\n",
    "import seaborn as sns # for pretty plots\n",
    "from scipy.stats import norm\n",
    "\n",
    "class parameters():\n",
    "\n",
    "    \"\"\"\n",
    "    Hyperparameteres for the GAN\n",
    "    \"\"\"\n",
    "\n",
    "    def __init__(self):\n",
    "\n",
    "        # True data distribution\n",
    "        self.mu = 0\n",
    "        self.sigma = 1\n",
    "\n",
    "        self.num_epochs = 10000\n",
    "        self.num_points = 1000\n",
    "        self.batch_size = 200\n",
    "        self.x_dimensions = 1\n",
    "        self.y_dimensions = 1\n",
    "\n",
    "        self.ckpt_dir = \"checkpoints\"\n",
    "\n",
    "\n",
    "# MLP - used for D_pre, D1, D2, G networks\n",
    "def mlp(inputs, input_dim, output_dim):\n",
    "    # construct learnable parameters within local scope\n",
    "    w1=tf.get_variable(\"w0\", [input_dim, 6], initializer=tf.random_normal_initializer())\n",
    "    b1=tf.get_variable(\"b0\", [6], initializer=tf.constant_initializer(0.0))\n",
    "    w2=tf.get_variable(\"w1\", [6, 5], initializer=tf.random_normal_initializer())\n",
    "    b2=tf.get_variable(\"b1\", [5], initializer=tf.constant_initializer(0.0))\n",
    "    w3=tf.get_variable(\"w2\", [5,output_dim], initializer=tf.random_normal_initializer())\n",
    "    b3=tf.get_variable(\"b2\", [output_dim], initializer=tf.constant_initializer(0.0))\n",
    "    # nn operators\n",
    "    fc1=tf.nn.tanh(tf.matmul(inputs,w1)+b1)\n",
    "    fc2=tf.nn.tanh(tf.matmul(fc1,w2)+b2)\n",
    "    fc3=tf.nn.tanh(tf.matmul(fc2,w3)+b3)\n",
    "    return fc3, [w1,b1,w2,b2,w3,b3]\n",
    "\n",
    "def momentum_optimizer(num_epochs, loss, var_list):\n",
    "\n",
    "    \"\"\"\n",
    "    Our momentum optimizer to use for training.\n",
    "    \"\"\"\n",
    "\n",
    "    batch = tf.Variable(0)\n",
    "    learning_rate = tf.train.exponential_decay(\n",
    "        0.001, # starting learning rate\n",
    "        batch, # index\n",
    "        num_epochs // 4, # num of times to decay\n",
    "        0.95, # decay rate\n",
    "        staircase=True)\n",
    "    optimizer=tf.train.MomentumOptimizer(learning_rate,0.6).minimize(\n",
    "        loss, global_step=batch, var_list=var_list)\n",
    "    #optimizer = tf.train.AdamOptimizer(learning_rate=0.0001).minimize(loss)\n",
    "    return optimizer"
   ]
  },
  {
   "cell_type": "code",
   "execution_count": 3,
   "metadata": {
    "collapsed": true
   },
   "outputs": [],
   "source": [
    "FLAGS = parameters()"
   ]
  },
  {
   "cell_type": "code",
   "execution_count": 4,
   "metadata": {
    "collapsed": false
   },
   "outputs": [],
   "source": [
    "# Pretrain D\n",
    "with tf.variable_scope(\"D_pretrain\"):\n",
    "    pretrained_inputs = tf.placeholder(tf.float32,\n",
    "        shape=[None, None], name=\"pretrain_inputs\")\n",
    "    pretrain_labels = tf.placeholder(tf.float32,\n",
    "        shape=[None, None], name=\"pretrain_labels\")\n",
    "    D, theta_d = mlp(pretrained_inputs,\n",
    "                     FLAGS.x_dimensions,\n",
    "                     FLAGS.y_dimensions)\n",
    "    pretrain_loss = tf.reduce_mean(tf.square(\n",
    "        D-pretrain_labels))\n",
    "optimizer_d = momentum_optimizer(FLAGS.num_epochs,\n",
    "                                    pretrain_loss,\n",
    "                                    None)"
   ]
  },
  {
   "cell_type": "code",
   "execution_count": 5,
   "metadata": {
    "collapsed": true
   },
   "outputs": [],
   "source": [
    "sess=tf.InteractiveSession()\n",
    "tf.initialize_all_variables().run()"
   ]
  },
  {
   "cell_type": "code",
   "execution_count": 6,
   "metadata": {
    "collapsed": false
   },
   "outputs": [],
   "source": [
    "lh=np.zeros(1000)\n",
    "M = FLAGS.batch_size\n",
    "for i in range(1000):\n",
    "    #d=np.random.normal(mu,sigma,M)\n",
    "    d=(np.random.random(M)-0.5) * 10.0 # instead of sampling only from gaussian, want the domain to be covered as uniformly as possible\n",
    "    labels=norm.pdf(d,loc=FLAGS.mu,scale=FLAGS.sigma)\n",
    "    lh[i],_=sess.run([pretrain_loss,optimizer_d], {pretrained_inputs: np.reshape(d,(M,1)), pretrain_labels: np.reshape(labels,(M,1))})"
   ]
  },
  {
   "cell_type": "code",
   "execution_count": 7,
   "metadata": {
    "collapsed": false
   },
   "outputs": [
    {
     "data": {
      "image/png": "[encoded data removed]",
      "text/plain": [
       "<matplotlib.figure.Figure at 0x11a807350>"
      ]
     },
     "metadata": {},
     "output_type": "display_data"
    }
   ],
   "source": [
    "plt.plot(lh)\n",
    "plt.show()"
   ]
  },
  {
   "cell_type": "code",
   "execution_count": 8,
   "metadata": {
    "collapsed": true
   },
   "outputs": [],
   "source": [
    "weightsD=sess.run(theta_d)"
   ]
  },
  {
   "cell_type": "code",
   "execution_count": 9,
   "metadata": {
    "collapsed": true
   },
   "outputs": [],
   "source": [
    "sess.close()"
   ]
  },
  {
   "cell_type": "code",
   "execution_count": null,
   "metadata": {
    "collapsed": false
   },
   "outputs": [],
   "source": []
  },
  {
   "cell_type": "code",
   "execution_count": 10,
   "metadata": {
    "collapsed": false
   },
   "outputs": [
    {
     "ename": "NameError",
     "evalue": "name 'theta_G' is not defined",
     "output_type": "error",
     "traceback": [
      "\u001b[0;31m---------------------------------------------------------------------------\u001b[0m",
      "\u001b[0;31mNameError\u001b[0m                                 Traceback (most recent call last)",
      "\u001b[0;32m<ipython-input-10-eb3f7d30cd8b>\u001b[0m in \u001b[0;36m<module>\u001b[0;34m()\u001b[0m\n\u001b[1;32m     37\u001b[0m optimizer_G = momentum_optimizer(FLAGS.num_epochs,\n\u001b[1;32m     38\u001b[0m                                  \u001b[0;36m1\u001b[0m\u001b[0;34m-\u001b[0m\u001b[0mobjective_G\u001b[0m\u001b[0;34m,\u001b[0m\u001b[0;34m\u001b[0m\u001b[0m\n\u001b[0;32m---> 39\u001b[0;31m                                  theta_G)\n\u001b[0m",
      "\u001b[0;31mNameError\u001b[0m: name 'theta_G' is not defined"
     ]
    }
   ],
   "source": [
    "with tf.variable_scope(\"G\"):\n",
    "    z = tf.placeholder(tf.float32,\n",
    "        shape=[None, None], name='z')\n",
    "    G, theta_G = mlp(z,\n",
    "                            FLAGS.x_dimensions,\n",
    "                            FLAGS.x_dimensions)\n",
    "    # We need to scale our X' to match X's scale\n",
    "    G = tf.mul(5.0, G)\n",
    "\n",
    "with tf.variable_scope(\"D\") as scope:\n",
    "    # Feed X into D\n",
    "    X = tf.placeholder(tf.float32,\n",
    "        shape=[None, None], name=\"X\")\n",
    "    D_X, theta_D = mlp(X,\n",
    "                         FLAGS.x_dimensions,\n",
    "                         FLAGS.y_dimensions)\n",
    "    # Scale the prediction\n",
    "    D_X = tf.maximum(tf.minimum(D_X, 0.99), 0.01)\n",
    "    \n",
    "    scope.reuse_variables()\n",
    "\n",
    "    # Feed X' into D\n",
    "    D_X_prime, theta_D = mlp(G,\n",
    "                                     FLAGS.x_dimensions,\n",
    "                                     FLAGS.y_dimensions)\n",
    "    # Scale the prediction\n",
    "    D_X_prime = tf.maximum(tf.minimum(D_X_prime, 0.99), 0.01)\n",
    "\n",
    "# Objective functions\n",
    "objective_D = tf.reduce_mean(tf.log(D_X) + \\\n",
    "                   tf.log(1-D_X_prime))\n",
    "objective_G = tf.reduce_mean(tf.log(D_X_prime))\n",
    "\n",
    "# Train optimizers\n",
    "optimizer_D = momentum_optimizer(FLAGS.num_epochs,\n",
    "                                 1-objective_D,\n",
    "                                 theta_D)\n",
    "optimizer_G = momentum_optimizer(FLAGS.num_epochs,\n",
    "                                 1-objective_G,\n",
    "                                 theta_G)"
   ]
  },
  {
   "cell_type": "code",
   "execution_count": null,
   "metadata": {
    "collapsed": true
   },
   "outputs": [],
   "source": [
    "sess=tf.InteractiveSession()\n",
    "tf.initialize_all_variables().run()"
   ]
  },
  {
   "cell_type": "code",
   "execution_count": null,
   "metadata": {
    "collapsed": false
   },
   "outputs": [],
   "source": [
    "# copy weights from pre-training over to new D network\n",
    "for i,v in enumerate(theta_D):\n",
    "    sess.run(v.assign(weightsD[i]))"
   ]
  },
  {
   "cell_type": "code",
   "execution_count": null,
   "metadata": {
    "collapsed": false
   },
   "outputs": [],
   "source": [
    "# Let's train the GAN\n",
    "k=1\n",
    "objective_Ds = np.zeros(FLAGS.num_epochs)\n",
    "objective_Gs = np.zeros(FLAGS.num_epochs)\n",
    "for i in xrange(FLAGS.num_epochs):\n",
    "\n",
    "    if i%1000 == 0:\n",
    "        print i/float(FLAGS.num_epochs)\n",
    "\n",
    "    # k updates to discriminator\n",
    "    for j in xrange(k):\n",
    "        batch_X = np.random.normal(FLAGS.mu,\n",
    "                                   FLAGS.sigma,\n",
    "                                   FLAGS.batch_size)\n",
    "        batch_X.sort()\n",
    "        batch_X = np.reshape(batch_X, (FLAGS.batch_size, 1))\n",
    "        batch_z = np.linspace(-5, 5,\n",
    "                            FLAGS.batch_size) + \\\n",
    "                            np.random.random(FLAGS.batch_size)*0.01\n",
    "        batch_z = np.reshape(batch_z, (FLAGS.batch_size, 1))\n",
    "        objective_Ds[i], _ = sess.run([objective_D, optimizer_D], {z: batch_z, X: batch_X})\n",
    "\n",
    "    # 1 update to G\n",
    "    batch_z = np.linspace(-5, 5,\n",
    "                            FLAGS.batch_size) + \\\n",
    "                            np.random.random(FLAGS.batch_size)*0.01\n",
    "    batch_z = np.reshape(batch_z, (FLAGS.batch_size, 1))\n",
    "    objective_Gs[i], _ = sess.run([objective_G, optimizer_G], {z: batch_z})"
   ]
  },
  {
   "cell_type": "code",
   "execution_count": null,
   "metadata": {
    "collapsed": false
   },
   "outputs": [],
   "source": [
    "# True data distribution with untrained D\n",
    "f, ax = plt.subplots(1)\n",
    "\n",
    "# p_data\n",
    "X_ = np.linspace(-5, 5,\n",
    "                FLAGS.num_points)\n",
    "y_ = norm.pdf(X_, loc=FLAGS.mu, scale=FLAGS.sigma)\n",
    "ax.plot(X_, y_, label='p_data')\n",
    "\n",
    "# Untrained p_discriminator\n",
    "untrained_D = np.zeros((FLAGS.num_points,1))\n",
    "for i in range(FLAGS.num_points/FLAGS.batch_size):\n",
    "    batch_X = np.reshape(\n",
    "        X_[FLAGS.batch_size*i:FLAGS.batch_size*(i+1)],\n",
    "        (FLAGS.batch_size,1))\n",
    "    untrained_D[FLAGS.batch_size*i:FLAGS.batch_size*(i+1)] = \\\n",
    "        sess.run(D_X,\n",
    "            feed_dict={X: batch_X})\n",
    "ax.plot(X_, untrained_D, label='untrained_D')\n",
    "\n",
    "plt.legend()\n",
    "plt.show()\n"
   ]
  },
  {
   "cell_type": "code",
   "execution_count": null,
   "metadata": {
    "collapsed": true
   },
   "outputs": [],
   "source": []
  },
  {
   "cell_type": "code",
   "execution_count": null,
   "metadata": {
    "collapsed": true
   },
   "outputs": [],
   "source": []
  },
  {
   "cell_type": "code",
   "execution_count": null,
   "metadata": {
    "collapsed": true
   },
   "outputs": [],
   "source": []
  },
  {
   "cell_type": "code",
   "execution_count": null,
   "metadata": {
    "collapsed": true
   },
   "outputs": [],
   "source": []
  },
  {
   "cell_type": "code",
   "execution_count": null,
   "metadata": {
    "collapsed": true
   },
   "outputs": [],
   "source": []
  },
  {
   "cell_type": "code",
   "execution_count": 26,
   "metadata": {
    "collapsed": false
   },
   "outputs": [
    {
     "data": {
      "text/plain": [
       "[<matplotlib.lines.Line2D at 0x11029ef90>]"
      ]
     },
     "execution_count": 26,
     "metadata": {},
     "output_type": "execute_result"
    },
    {
     "data": {
      "image/png": "[encoded data removed]",
      "text/plain": [
       "<matplotlib.figure.Figure at 0x110022950>"
      ]
     },
     "metadata": {},
     "output_type": "display_data"
    }
   ],
   "source": [
    "mu,sigma=0,1\n",
    "xs=np.linspace(-5,5,1000)\n",
    "plt.plot(xs, norm.pdf(xs,loc=mu,scale=sigma))\n",
    "#plt.savefig('fig0.png')"
   ]
  },
  {
   "cell_type": "code",
   "execution_count": 3,
   "metadata": {
    "collapsed": true
   },
   "outputs": [],
   "source": [
    "TRAIN_ITERS=10000\n",
    "M=200 # minibatch size"
   ]
  },
  {
   "cell_type": "code",
   "execution_count": 27,
   "metadata": {
    "collapsed": true
   },
   "outputs": [],
   "source": [
    "# MLP - used for D_pre, D1, D2, G networks\n",
    "def mlp(input, output_dim):\n",
    "    # construct learnable parameters within local scope\n",
    "    w1=tf.get_variable(\"w0\", [input.get_shape()[1], 6], initializer=tf.random_normal_initializer())\n",
    "    b1=tf.get_variable(\"b0\", [6], initializer=tf.constant_initializer(0.0))\n",
    "    w2=tf.get_variable(\"w1\", [6, 5], initializer=tf.random_normal_initializer())\n",
    "    b2=tf.get_variable(\"b1\", [5], initializer=tf.constant_initializer(0.0))\n",
    "    w3=tf.get_variable(\"w2\", [5,output_dim], initializer=tf.random_normal_initializer())\n",
    "    b3=tf.get_variable(\"b2\", [output_dim], initializer=tf.constant_initializer(0.0))\n",
    "    # nn operators\n",
    "    fc1=tf.nn.tanh(tf.matmul(input,w1)+b1)\n",
    "    fc2=tf.nn.tanh(tf.matmul(fc1,w2)+b2)\n",
    "    fc3=tf.nn.tanh(tf.matmul(fc2,w3)+b3)\n",
    "    return fc3, [w1,b1,w2,b2,w3,b3]"
   ]
  },
  {
   "cell_type": "code",
   "execution_count": 28,
   "metadata": {
    "collapsed": true
   },
   "outputs": [],
   "source": [
    "def momentum_optimizer(num_epochs, loss, var_list):\n",
    "\n",
    "    \"\"\"\n",
    "    Our momentum optimizer to use for training.\n",
    "    \"\"\"\n",
    "\n",
    "    batch = tf.Variable(0)\n",
    "    learning_rate = tf.train.exponential_decay(\n",
    "        0.001, # starting learning rate\n",
    "        batch, # index\n",
    "        num_epochs // 4, # num of times to decay\n",
    "        0.95, # decay rate\n",
    "        staircase=True)\n",
    "    optimizer=tf.train.MomentumOptimizer(learning_rate,0.6).minimize(\n",
    "        loss, global_step=batch, var_list=var_list)\n",
    "    #optimizer = tf.train.AdamOptimizer(learning_rate=0.0001).minimize(loss)\n",
    "    return optimizer"
   ]
  },
  {
   "cell_type": "code",
   "execution_count": 6,
   "metadata": {
    "collapsed": false
   },
   "outputs": [],
   "source": [
    "with tf.variable_scope(\"D_pre\"):\n",
    "    input_node=tf.placeholder(tf.float32, shape=(M,1))\n",
    "    train_labels=tf.placeholder(tf.float32,shape=(M,1))\n",
    "    D,theta=mlp(input_node,1)\n",
    "    loss=tf.reduce_mean(tf.square(D-train_labels))"
   ]
  },
  {
   "cell_type": "code",
   "execution_count": 7,
   "metadata": {
    "collapsed": true
   },
   "outputs": [],
   "source": [
    "optimizer=momentum_optimizer(loss,None)"
   ]
  },
  {
   "cell_type": "code",
   "execution_count": 8,
   "metadata": {
    "collapsed": true
   },
   "outputs": [],
   "source": [
    "sess=tf.InteractiveSession()\n",
    "tf.initialize_all_variables().run()"
   ]
  },
  {
   "cell_type": "code",
   "execution_count": 9,
   "metadata": {
    "collapsed": true
   },
   "outputs": [],
   "source": [
    "# plot decision surface\n",
    "def plot_d0(D,input_node):\n",
    "    f,ax=plt.subplots(1)\n",
    "    # p_data\n",
    "    xs=np.linspace(-5,5,1000)\n",
    "    ax.plot(xs, norm.pdf(xs,loc=mu,scale=sigma), label='p_data')\n",
    "    # decision boundary\n",
    "    r=1000 # resolution (number of points)\n",
    "    xs=np.linspace(-5,5,r)\n",
    "    ds=np.zeros((r,1)) # decision surface\n",
    "    # process multiple points in parallel in a minibatch\n",
    "    for i in range(r/M):\n",
    "        x=np.reshape(xs[M*i:M*(i+1)],(M,1))\n",
    "        ds[M*i:M*(i+1)]=sess.run(D,{input_node: x})\n",
    "\n",
    "    ax.plot(xs, ds, label='decision boundary')\n",
    "    ax.set_ylim(0,1.1)\n",
    "    plt.legend()"
   ]
  },
  {
   "cell_type": "code",
   "execution_count": 10,
   "metadata": {
    "collapsed": false
   },
   "outputs": [
    {
     "data": {
      "text/plain": [
       "<matplotlib.text.Text at 0x10f4a6150>"
      ]
     },
     "execution_count": 10,
     "metadata": {},
     "output_type": "execute_result"
    },
    {
     "data": {
      "image/png": "[encoded data removed]",
      "text/plain": [
       "<matplotlib.figure.Figure at 0x10f35f790>"
      ]
     },
     "metadata": {},
     "output_type": "display_data"
    }
   ],
   "source": [
    "plot_d0(D,input_node)\n",
    "plt.title('Initial Decision Boundary')\n",
    "#plt.savefig('fig1.png')"
   ]
  },
  {
   "cell_type": "code",
   "execution_count": 11,
   "metadata": {
    "collapsed": true
   },
   "outputs": [],
   "source": [
    "lh=np.zeros(1000)\n",
    "for i in range(1000):\n",
    "    #d=np.random.normal(mu,sigma,M)\n",
    "    d=(np.random.random(M)-0.5) * 10.0 # instead of sampling only from gaussian, want the domain to be covered as uniformly as possible\n",
    "    labels=norm.pdf(d,loc=mu,scale=sigma)\n",
    "    lh[i],_=sess.run([loss,optimizer], {input_node: np.reshape(d,(M,1)), train_labels: np.reshape(labels,(M,1))})"
   ]
  },
  {
   "cell_type": "code",
   "execution_count": 12,
   "metadata": {
    "collapsed": false
   },
   "outputs": [
    {
     "data": {
      "text/plain": [
       "<matplotlib.text.Text at 0x10f41c510>"
      ]
     },
     "execution_count": 12,
     "metadata": {},
     "output_type": "execute_result"
    },
    {
     "data": {
      "image/png": "[encoded data removed]",
      "text/plain": [
       "<matplotlib.figure.Figure at 0x10f376ed0>"
      ]
     },
     "metadata": {},
     "output_type": "display_data"
    }
   ],
   "source": [
    "# training loss\n",
    "plt.plot(lh)\n",
    "plt.title('Training Loss')"
   ]
  },
  {
   "cell_type": "code",
   "execution_count": 13,
   "metadata": {
    "collapsed": false
   },
   "outputs": [
    {
     "data": {
      "image/png": "[encoded data removed]",
      "text/plain": [
       "<matplotlib.figure.Figure at 0x10f4120d0>"
      ]
     },
     "metadata": {},
     "output_type": "display_data"
    }
   ],
   "source": [
    "plot_d0(D,input_node)\n",
    "#plt.savefig('fig2.png')"
   ]
  },
  {
   "cell_type": "code",
   "execution_count": 14,
   "metadata": {
    "collapsed": true
   },
   "outputs": [],
   "source": [
    "weightsD=sess.run(theta)"
   ]
  },
  {
   "cell_type": "code",
   "execution_count": 15,
   "metadata": {
    "collapsed": true
   },
   "outputs": [],
   "source": [
    "sess.close()"
   ]
  },
  {
   "cell_type": "code",
   "execution_count": null,
   "metadata": {
    "collapsed": true
   },
   "outputs": [],
   "source": []
  },
  {
   "cell_type": "code",
   "execution_count": 16,
   "metadata": {
    "collapsed": true
   },
   "outputs": [],
   "source": [
    "with tf.variable_scope(\"G\"):\n",
    "    z_node=tf.placeholder(tf.float32, shape=(M,1)) # M uniform01 floats\n",
    "    G,theta_g=mlp(z_node,1) # generate normal transformation of Z\n",
    "    G=tf.mul(5.0,G) # scale up by 5 to match range\n",
    "with tf.variable_scope(\"D\") as scope:\n",
    "    # D(x)\n",
    "    x_node=tf.placeholder(tf.float32, shape=(M,1)) # input M normally distributed floats\n",
    "    fc,theta_d=mlp(x_node,1) # output likelihood of being normally distributed\n",
    "    D1=tf.maximum(tf.minimum(fc,.99), 0.01) # clamp as a probability\n",
    "    # make a copy of D that uses the same variables, but takes in G as input\n",
    "    scope.reuse_variables()\n",
    "    fc,theta_d=mlp(G,1)\n",
    "    D2=tf.maximum(tf.minimum(fc,.99), 0.01)\n",
    "obj_d=tf.reduce_mean(tf.log(D1)+tf.log(1-D2))\n",
    "obj_g=tf.reduce_mean(tf.log(D2))\n",
    "\n",
    "# set up optimizer for G,D\n",
    "opt_d=momentum_optimizer(1-obj_d, theta_d)\n",
    "opt_g=momentum_optimizer(1-obj_g, theta_g) # maximize log(D(G(z)))"
   ]
  },
  {
   "cell_type": "code",
   "execution_count": 17,
   "metadata": {
    "collapsed": true
   },
   "outputs": [],
   "source": [
    "sess=tf.InteractiveSession()\n",
    "tf.initialize_all_variables().run()"
   ]
  },
  {
   "cell_type": "code",
   "execution_count": 18,
   "metadata": {
    "collapsed": true
   },
   "outputs": [],
   "source": [
    "# copy weights from pre-training over to new D network\n",
    "for i,v in enumerate(theta_d):\n",
    "    sess.run(v.assign(weightsD[i]))"
   ]
  },
  {
   "cell_type": "code",
   "execution_count": 19,
   "metadata": {
    "collapsed": true
   },
   "outputs": [],
   "source": [
    "def plot_fig():\n",
    "    # plots pg, pdata, decision boundary \n",
    "    f,ax=plt.subplots(1)\n",
    "    # p_data\n",
    "    xs=np.linspace(-5,5,1000)\n",
    "    ax.plot(xs, norm.pdf(xs,loc=mu,scale=sigma), label='p_data')\n",
    "\n",
    "    # decision boundary\n",
    "    r=5000 # resolution (number of points)\n",
    "    xs=np.linspace(-5,5,r)\n",
    "    ds=np.zeros((r,1)) # decision surface\n",
    "    # process multiple points in parallel in same minibatch\n",
    "    for i in range(r/M):\n",
    "        x=np.reshape(xs[M*i:M*(i+1)],(M,1))\n",
    "        ds[M*i:M*(i+1)]=sess.run(D1,{x_node: x})\n",
    "\n",
    "    ax.plot(xs, ds, label='decision boundary')\n",
    "\n",
    "    # distribution of inverse-mapped points\n",
    "    zs=np.linspace(-5,5,r)\n",
    "    gs=np.zeros((r,1)) # generator function\n",
    "    for i in range(r/M):\n",
    "        z=np.reshape(zs[M*i:M*(i+1)],(M,1))\n",
    "        gs[M*i:M*(i+1)]=sess.run(G,{z_node: z})\n",
    "    histc, edges = np.histogram(gs, bins = 10)\n",
    "    ax.plot(np.linspace(-5,5,10), histc/float(r), label='p_g')\n",
    "\n",
    "    # ylim, legend\n",
    "    ax.set_ylim(0,1.1)\n",
    "    plt.legend()"
   ]
  },
  {
   "cell_type": "code",
   "execution_count": 20,
   "metadata": {
    "collapsed": false
   },
   "outputs": [
    {
     "data": {
      "text/plain": [
       "<matplotlib.text.Text at 0x1100e9110>"
      ]
     },
     "execution_count": 20,
     "metadata": {},
     "output_type": "execute_result"
    },
    {
     "data": {
      "image/png": "[encoded data removed]",
      "text/plain": [
       "<matplotlib.figure.Figure at 0x10f580d90>"
      ]
     },
     "metadata": {},
     "output_type": "display_data"
    }
   ],
   "source": [
    "# initial conditions\n",
    "plot_fig()\n",
    "plt.title('Before Training')\n",
    "#plt.savefig('fig3.png')"
   ]
  },
  {
   "cell_type": "code",
   "execution_count": 21,
   "metadata": {
    "collapsed": false
   },
   "outputs": [
    {
     "name": "stdout",
     "output_type": "stream",
     "text": [
      "0.0\n",
      "0.1\n",
      "0.2\n",
      "0.3\n",
      "0.4\n",
      "0.5\n",
      "0.6\n",
      "0.7\n",
      "0.8\n",
      "0.9\n"
     ]
    }
   ],
   "source": [
    "# Algorithm 1 of Goodfellow et al 2014\n",
    "k=1\n",
    "histd, histg= np.zeros(TRAIN_ITERS), np.zeros(TRAIN_ITERS)\n",
    "for i in range(TRAIN_ITERS):\n",
    "    for j in range(k):\n",
    "        x= np.random.normal(mu,sigma,M) # sampled m-batch from p_data\n",
    "        x.sort()\n",
    "        z= np.linspace(-5.0,5.0,M)+np.random.random(M)*0.01  # sample m-batch from noise prior\n",
    "        histd[i],_=sess.run([obj_d,opt_d], {x_node: np.reshape(x,(M,1)), z_node: np.reshape(z,(M,1))})\n",
    "    z= np.linspace(-5.0,5.0,M)+np.random.random(M)*0.01 # sample noise prior\n",
    "    histg[i],_=sess.run([obj_g,opt_g], {z_node: np.reshape(z,(M,1))}) # update generator\n",
    "    if i % (TRAIN_ITERS//10) == 0:\n",
    "        print(float(i)/float(TRAIN_ITERS))"
   ]
  },
  {
   "cell_type": "code",
   "execution_count": 22,
   "metadata": {
    "collapsed": false
   },
   "outputs": [
    {
     "data": {
      "text/plain": [
       "<matplotlib.legend.Legend at 0x10fe13c10>"
      ]
     },
     "execution_count": 22,
     "metadata": {},
     "output_type": "execute_result"
    },
    {
     "data": {
      "image/png": "[encoded data removed]",
      "text/plain": [
       "<matplotlib.figure.Figure at 0x10fd33d10>"
      ]
     },
     "metadata": {},
     "output_type": "display_data"
    }
   ],
   "source": [
    "plt.plot(range(TRAIN_ITERS),histd, label='obj_d')\n",
    "plt.plot(range(TRAIN_ITERS), 1-histg, label='obj_g')\n",
    "plt.legend()\n",
    "#plt.savefig('fig4.png')"
   ]
  },
  {
   "cell_type": "code",
   "execution_count": 23,
   "metadata": {
    "collapsed": false
   },
   "outputs": [
    {
     "data": {
      "image/png": "[encoded data removed]",
      "text/plain": [
       "<matplotlib.figure.Figure at 0x10fd33890>"
      ]
     },
     "metadata": {},
     "output_type": "display_data"
    }
   ],
   "source": [
    "plot_fig()\n",
    "#plt.savefig('fig5.png')"
   ]
  },
  {
   "cell_type": "code",
   "execution_count": null,
   "metadata": {
    "collapsed": true
   },
   "outputs": [],
   "source": []
  },
  {
   "cell_type": "code",
   "execution_count": null,
   "metadata": {
    "collapsed": true
   },
   "outputs": [],
   "source": []
  }
 ],
 "metadata": {
  "kernelspec": {
   "display_name": "Python 2",
   "language": "python",
   "name": "python2"
  },
  "language_info": {
   "codemirror_mode": {
    "name": "ipython",
    "version": 2
   },
   "file_extension": ".py",
   "mimetype": "text/x-python",
   "name": "python",
   "nbconvert_exporter": "python",
   "pygments_lexer": "ipython2",
   "version": "2.7.10"
  }
 },
 "nbformat": 4,
 "nbformat_minor": 1
}
